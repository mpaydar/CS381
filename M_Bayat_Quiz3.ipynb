{
  "nbformat": 4,
  "nbformat_minor": 0,
  "metadata": {
    "colab": {
      "name": "M_Bayat_Quiz3.ipynb",
      "provenance": [],
      "authorship_tag": "ABX9TyOiml3+miigrT9ieW8l0qUV",
      "include_colab_link": true
    },
    "kernelspec": {
      "name": "python3",
      "display_name": "Python 3"
    },
    "language_info": {
      "name": "python"
    }
  },
  "cells": [
    {
      "cell_type": "markdown",
      "metadata": {
        "id": "view-in-github",
        "colab_type": "text"
      },
      "source": [
        "<a href=\"https://colab.research.google.com/github/mpaydar/CS381/blob/main/M_Bayat_Quiz3.ipynb\" target=\"_parent\"><img src=\"https://colab.research.google.com/assets/colab-badge.svg\" alt=\"Open In Colab\"/></a>"
      ]
    },
    {
      "cell_type": "markdown",
      "source": [
        "# Introduction\n",
        "  In this dataset, there are 12795 data sets about different wines which were sold. For every wine that was sold. In this data modeling attribute, each wine will have 16 numerical attributes or categorical data. \n",
        "  In term of alcohol content, there would be two different types of wine:\n",
        "  fortified wine and traditional wine. \n",
        "\n",
        "\n",
        "\n",
        "  ## Description of attributes\n",
        "1. **INDEX**: unique number for each wine\n",
        "2. **TARGET**: Number of wine cases sold\n",
        "3.  **fixed acidity:** most acids involved with wine or fixed or nonvolatile (do not evaporate readily)\n",
        "\n",
        "4. **volatile acidity:** the amount of acetic acid in wine, which at too high of levels can lead to an unpleasant, vinegar taste\n",
        "\n",
        "5. **Citric acid:** found in small quantities, citric acid can add ‘freshness’ and flavor to wines\n",
        "\n",
        "6. **Residual sugar:** the amount of sugar remaining after fermentation stops, it’s rare to find wines with less than 1 gram/liter and wines with greater than 45 grams/liter are considered sweet\n",
        "\n",
        "7. **Chlorides:** the amount of salt in the wine\n",
        "\n",
        "8. **Free sulfur dioxide: **the free form of SO2 exists in equilibrium between molecular SO2 (as a dissolved gas) and bisulfite ion; it prevents microbial growth and the oxidation of wine\n",
        "\n",
        "9. **Total sulfur dioxide:**amount of free and bound forms of S02; in low concentrations, SO2 is mostly undetectable in wine, but at free SO2 concentrations over 50 ppm, SO2 becomes evident in the nose and taste of wine\n",
        "\n",
        "10. **Density:** the density of water is close to that of water depending on the percent alcohol and sugar content\n",
        "\n",
        "11. **pH**: describes how acidic or basic a wine is on a scale from 0 (very acidic) to 14 (very basic); most wines are between 3-4 on the pH scale\n",
        "\n",
        "12.  **Sulphates**: a wine additive which can contribute to sulfur dioxide gas (S02) levels, wich acts as an antimicrobial and antioxidant\n",
        "\n",
        "13. **Alcohol**: the percent alcohol content of the wine\n",
        "\n",
        "14. **Market label**: Marketing Score (how attractive is the label)\n",
        "15. **Stars**: rating of wine(4=Excellent-1-Poor) \n",
        "\n",
        "16. **AcidIndex**:total acidity of wine via a weighted average \n",
        " \n",
        "\n",
        "\n"
      ],
      "metadata": {
        "id": "3DNDvX4oq6q9"
      }
    },
    {
      "cell_type": "code",
      "execution_count": null,
      "metadata": {
        "id": "DOzd_i1EqOAH"
      },
      "outputs": [],
      "source": [
        "import pandas as pd\n",
        "import numpy as np\n",
        "import seaborn as sns\n",
        "import matplotlib.pyplot as plt\n",
        "\n",
        "\n",
        "header=['#OfItemSold']\n",
        "dataframe=pd.read_csv('https://raw.githubusercontent.com/MatthewFried/Udemy/master/Day2/Day2_Data.csv')\n",
        "print(dataframe.head())\n",
        "\n",
        "datadframeCopy1=dataframe\n",
        "datacopy2=datadframeCopy1\n",
        "\n",
        "#Checking on the dimension of data\n",
        "numbersOfRecords,numberOfattribute=dataframe.shape\n",
        "print(\"number of wine sold(Number of rows)=\",numbersOfRecords)\n",
        "print(\"number of wine attirbutes=\",numberOfattribute)\n",
        "\n",
        "\n",
        "\n",
        "\n"
      ]
    },
    {
      "cell_type": "markdown",
      "source": [
        "##Analysis of Various Features##\n",
        "##Categorical Data:\n",
        "    By understanding the dataset and proper domain knowlege we can see that \n",
        "    there are possibly 2 categorical data in the dataset, namely label appeal \n",
        "    and Stars/rating.   \n",
        "    label appeal scale:\n",
        "    -2 to 2 (poor to best) \n",
        "    -------------------------------------\n",
        "    Stars scale: 1-4\n",
        "    1-2 : poor quality\n",
        "    3-4: good quality \n",
        "\n",
        "\n",
        "\n",
        "\n"
      ],
      "metadata": {
        "id": "XWeaIHf8x95s"
      }
    },
    {
      "cell_type": "code",
      "source": [
        "import pandas as pd\n",
        "import numpy as np\n",
        "import seaborn as sns\n",
        "import matplotlib.pyplot as plt\n",
        "from matplotlib.pyplot import figure\n",
        "\n",
        "cat1=dataframe['STARS']\n",
        "cat2=dataframe['LabelAppeal']\n",
        "\n",
        "\n",
        "\n",
        "\n",
        "ax =plt.subplot(1,2,1)\n",
        "cat1.hist()\n",
        "\n",
        "\n",
        "\n",
        "plt.subplot(1,2,2)\n",
        "cat2.hist()\n",
        "\n",
        "\n",
        "\n",
        "plt.subplots_adjust(right=1.2)\n",
        "plt.show()\n",
        "\n",
        "\n",
        "\n",
        "\n"
      ],
      "metadata": {
        "id": "2mxOqH7e1LT8"
      },
      "execution_count": null,
      "outputs": []
    },
    {
      "cell_type": "markdown",
      "source": [
        "###Checking For N/A Values\n",
        "Looking at the histogram of Rating , we can see that there are a lot of rating for the wines that have been sold , so we could investigate the data and see if we can find anything explaining this poor rating for the wines which were sold. \n",
        "\n",
        "\n",
        "The histogram for the label appealing is pretty much symmetrical and there is not much that could be said based on the current label rating. \n",
        "\n",
        "Let's investigate whether there are N/A values in our categorical attirbutes.\n"
      ],
      "metadata": {
        "id": "Jj5c2sKc_MaU"
      }
    },
    {
      "cell_type": "code",
      "source": [
        "numberOfNa=dataframe.isnull().sum()\n",
        "print(numberOfNa)\n",
        "\n",
        "\n"
      ],
      "metadata": {
        "id": "_ZEOVtOcAyaU"
      },
      "execution_count": null,
      "outputs": []
    },
    {
      "cell_type": "markdown",
      "source": [
        "As you can see the number of N/A values for one of our categorical attributes is 3359. We are missing so many rating which could be explain why the rating data is so skewed to the poor side . \n",
        "\n",
        "Now we will be checking for 0's in attributes that doesn't make sense to have 0's"
      ],
      "metadata": {
        "id": "rle_BjK0DUOl"
      }
    },
    {
      "cell_type": "code",
      "source": [
        "## Chechking for 0's  Number wines sold: \n",
        "a=dataframe.loc[(dataframe['TARGET']==0)]\n",
        "print(\"The number of zeros:\",len(a))"
      ],
      "metadata": {
        "id": "q9ox5ZCE7agE"
      },
      "execution_count": null,
      "outputs": []
    },
    {
      "cell_type": "markdown",
      "source": [
        "## Reforming the dataframe\n",
        "By inspecting the data and carefully considerring the information on the dataframe we have from the dataset,we could start editing some of the header name with more meaningful names. For example Target which is the column for the number of wine sold could be renamed to \"NumberOFWineSold\" and \"STARS\" could be renamed as \"Rating\". The other improvement we could do the dataframe is dropping the \"Index\" column since it is not providing us any additional informaton about wine that matter to us in this report. Then we look at the static of our dataset. "
      ],
      "metadata": {
        "id": "n13_-anU_KK7"
      }
    },
    {
      "cell_type": "code",
      "source": [
        "dataframe=dataframe.drop(['INDEX'],axis=1)\n",
        "dataframe=dataframe.rename(columns={'TARGET':'NumberOFWineSold','STARS':'Rating'})\n",
        "dataframe.describe()\n"
      ],
      "metadata": {
        "id": "yXMdxSASBDVG"
      },
      "execution_count": null,
      "outputs": []
    },
    {
      "cell_type": "markdown",
      "source": [
        "## Now let's make histogram for other attributes and get more insight from the dataset:"
      ],
      "metadata": {
        "id": "-YjCjjbw7WcB"
      }
    },
    {
      "cell_type": "code",
      "source": [
        "\n",
        "\n",
        "\n",
        "\n",
        "\n",
        "\n",
        "att1=dataframe['NumberOFWineSold']\n",
        "att2=dataframe['FixedAcidity']\n",
        "att3=dataframe['VolatileAcidity']\n",
        "att4=dataframe['CitricAcid']\n",
        "att5=dataframe['ResidualSugar']\n",
        "att6=dataframe['Chlorides']\n",
        "att7=dataframe['FreeSulfurDioxide']\n",
        "att8=dataframe['TotalSulfurDioxide']\n",
        "att9=dataframe['Density']\n",
        "att10=dataframe['pH']\n",
        "att11=dataframe['Sulphates']\n",
        "att12=dataframe['Alcohol']\n",
        "att13=dataframe['AcidIndex']\n",
        "\n",
        "fig,a =  plt.subplots(4,4)\n",
        "\n",
        "a[0][0].hist(att1)\n",
        "a[0][0].set_title('TARGET')\n",
        "\n",
        "a[0][1].hist(att2)\n",
        "a[0][1].set_title('Fixed Acidity')\n",
        "\n",
        "a[0][2].hist(att3)\n",
        "a[0][2].set_title('Volatile Acidity')\n",
        "\n",
        "a[0][3].hist(att4)\n",
        "a[0][3].set_title('Citric Acid')\n",
        "\n",
        "\n",
        "a[1][0].hist(att5)\n",
        "a[1][0].set_title('Residual Sugar')\n",
        "\n",
        "a[1][1].hist(att6)\n",
        "a[1][1].set_title('Chlorides')\n",
        "\n",
        "\n",
        "a[1][2].hist(att7)\n",
        "a[1][2].set_title('Free SulfurDioxide')\n",
        "\n",
        "\n",
        "a[1][3].hist(att8)\n",
        "a[1][3].set_title('Total SulfurDioxide')\n",
        "\n",
        "\n",
        "a[2][0].hist(att9)\n",
        "a[2][0].set_title('Density')\n",
        "\n",
        "a[2][1].hist(att10)\n",
        "a[2][1].set_title('pH')\n",
        "\n",
        "a[2][2].hist(att11)\n",
        "a[2][2].set_title('Sulphates')\n",
        "\n",
        "\n",
        "a[2][3].hist(att12)\n",
        "a[2][3].set_title('Alcohol')\n",
        "\n",
        "\n",
        "\n",
        "a[3][0].hist(att13)\n",
        "a[3][0].set_title('Acid Index')\n",
        "\n",
        "\n",
        "\n",
        "plt.gcf().set_size_inches(15, 15)\n",
        "\n",
        "\n",
        "\n",
        "plt.show()\n",
        "\n",
        "\n",
        "\n",
        "\n",
        "\n"
      ],
      "metadata": {
        "id": "3speele1FMk8"
      },
      "execution_count": null,
      "outputs": []
    },
    {
      "cell_type": "markdown",
      "source": [
        "Here you could see that we have negative range values for some of the attributes which really doesn't make sense. For example, it does make sense for \n",
        "FixedAcidity,VolatileAcidity,CitricAcid,ResidualSugar,Chlorides\tFree SulfurDioxide,TotalSulfurDioxide,Density,pH,Sulphates,Alcohol to be negative. \n",
        "Let's get some visual insight and see some box plots between our categorical and numerical attributes. By visualizing the data as boxplot we can also learn more about outlier and if they can explain something for us. "
      ],
      "metadata": {
        "id": "gxjvUilRkalO"
      }
    },
    {
      "cell_type": "code",
      "source": [
        "fig,a =  plt.subplots(1,2)\n",
        "\n",
        "plt.subplot(1,3,1)\n",
        "sns.boxenplot(dataframe['LabelAppeal'],dataframe['NumberOFWineSold'])\n",
        "\n",
        "plt.subplot(1,3,2)\n",
        "sns.boxenplot(dataframe['Rating'],dataframe['NumberOFWineSold'])\n",
        "\n",
        "plt.subplot(1,3,3)\n",
        "sns.boxenplot(dataframe['NumberOFWineSold'],dataframe['Alcohol'])\n",
        "\n",
        "\n",
        "\n",
        "\n",
        "\n",
        "\n",
        "\n",
        "plt.subplots_adjust(right=2)\n",
        "plt.gcf().set_size_inches(10, 10)\n",
        "\n",
        "\n",
        "\n"
      ],
      "metadata": {
        "id": "8E8ywX8Ta2kj"
      },
      "execution_count": null,
      "outputs": []
    },
    {
      "cell_type": "markdown",
      "source": [
        "We could see from the left box-plot that for wines with appealing labels, we would see more sell. \n",
        "Also we could see from the right box-plot that on average those wines with high rating have higher number of sell, which makes sense. \n",
        "\n",
        "In the United States, one \"standard\" drink (or one alcoholic drink equivalent) contains roughly 14 grams of pure alcohol, which is found in:\n",
        "5 ounces of wine, which is typically about 12% alcohol and you could see that in about all cases that wine was bought, on average it contained 12%. \n",
        "From this graph , we could see some outlier as high as 25% which doens't make sense. \n",
        "Let’s take a look at alcohol levels are in wine from the lightest to the strongest. Truth be told, alcohol content in wine ranges wildly from as low as 5.5% to 23% ABV. So clearly there outlier needs be filtered. On the other side, we have some outlier on negative side. The lightest alcohol could contain 5, so anything from should be rule out. It can be seen that there were more sell in that contain on average 12% of alcohol. \n",
        "\n",
        "\n",
        "\n",
        "\n",
        "https://www.niaaa.nih.gov/alcohols-effects-health/overview-alcohol-consumption/what-standard-drink#:~:text=In%20the%20United%20States%2C%20one,is%20typically%20about%2012%25%20alcohol\n",
        "\n",
        "\n",
        "\n",
        "A good wine is all about the moderate or balance content of alcohol, sugar, and acid. let's look at the correlation of the attirbutes and have some more insight. However, when there are more alcohol in wine it means there are more sugar.\n",
        "Higher sugar accumulation in grapes = higher alcohol.\n",
        "let's visualize this:"
      ],
      "metadata": {
        "id": "xVbA6JwOzEZT"
      }
    },
    {
      "cell_type": "markdown",
      "source": [
        "Certain wines have more sugar than others. This is achieved in several different ways. Most commonly, winemakers simply stop the fermentation process before the yeast has converted all of the sugars into alcohol, resulting in a wine that is higher in residual sugar. Sugar is important in production of alcohol. \n",
        "\n",
        "\n",
        "Cheaper, mass-produced wines are known to be higher in residual sugars. These cheaper wineries often utilize tricks such as adding artificial acids to help balance overly sweet wines, or adding in artificial sugars to add balance to overly sour grapes."
      ],
      "metadata": {
        "id": "-WwHgcmgL3SR"
      }
    },
    {
      "cell_type": "code",
      "source": [
        "\n",
        "\n",
        "plt.subplot(1,2,1)\n",
        "sns.scatterplot(dataframe['ResidualSugar'],dataframe['Alcohol'])\n",
        "\n",
        "plt.subplot(1,2,2)\n",
        "sns.boxenplot(x=dataframe['NumberOFWineSold'],y=dataframe['ResidualSugar'])\n",
        "\n",
        "plt.subplots_adjust(right=2)\n",
        "plt.gcf().set_size_inches(10, 10)\n",
        "\n",
        "plt.show()"
      ],
      "metadata": {
        "id": "SrZmmzd-KXLW"
      },
      "execution_count": null,
      "outputs": []
    },
    {
      "cell_type": "markdown",
      "source": [
        "You can see that the wins with highest sell had very little sugar because they are considerred as expensive wines. Again we see some extreme cases that really don't makes sense. The amount of sugar in a bottle of wine can vary from as little as 4 grams to as much as 58 grams. We see values in 100's or -100's. \n",
        "A reliable range should from 4 to 58 . "
      ],
      "metadata": {
        "id": "qM4yI3sDMqdz"
      }
    },
    {
      "cell_type": "markdown",
      "source": [
        ""
      ],
      "metadata": {
        "id": "PSeNu-RwMIvA"
      }
    },
    {
      "cell_type": "code",
      "source": [
        "corr = dataframe.corr()\n",
        "corr.style.background_gradient(cmap='coolwarm')"
      ],
      "metadata": {
        "id": "ONcr_aND15N9"
      },
      "execution_count": null,
      "outputs": []
    },
    {
      "cell_type": "markdown",
      "source": [
        "From this correlation mapping , we could see very small correlation between citric acid. There is very small amount of citric acid however as long as it is small percentage of the wine , it would add quality to the wine. According to UC Davis, citric acid is often added to wines to increase acidity, complement a specific flavor or prevent ferric hazes. It can be added to finished wines to increase acidity and give a “fresh” flavor, however it should be small perctage of the wine. \n",
        "Only small amounts of citric acid are present in grapes. Only about 5 percent of the total acid is citric in sound grapes.That's why positive correlation between number of wine sold and citric acid. \n",
        "\n",
        "\n",
        "https://wineserver.ucdavis.edu/industry-info/enology/methods-and-techniques/common-chemical-reagents/citric-acid#:~:text=Citric%20acid%20is%20often%20added,acid%20is%20its%20microbial%20instability.\n",
        "\n",
        "\n",
        "https://www.homebrewit.com/pages/a-detailed-explanation-of-acids-used-in-wine-making"
      ],
      "metadata": {
        "id": "fij_R4Hc3a0-"
      }
    },
    {
      "cell_type": "markdown",
      "source": [
        "#Data Prepration:\n",
        "## Negative Values:\n",
        "There are negative values that have to be taken care of because it doesn't make sense to have negative values in our data. "
      ],
      "metadata": {
        "id": "vVHSzFUSE02s"
      }
    },
    {
      "cell_type": "code",
      "source": [
        "dataframeCopy=dataframe.copy().abs()    # making everything positive\n",
        "# print(dataframe.head())\n",
        "\n",
        "\n",
        "# checking for negative numbers:\n",
        "print((dataframeCopy < 0).values.any())\n",
        "# if result==False:\n",
        "#   print('There no negative values in the dataframe')\n",
        "\n",
        "\n",
        "\n",
        "\n",
        "\n",
        "\n",
        "\n",
        "\n",
        "att1=dataframeCopy['NumberOFWineSold']\n",
        "att2=dataframeCopy['FixedAcidity']\n",
        "att3=dataframeCopy['VolatileAcidity']\n",
        "att4=dataframeCopy['CitricAcid']\n",
        "att5=dataframeCopy['ResidualSugar']\n",
        "att6=dataframeCopy['Chlorides']\n",
        "att7=dataframeCopy['FreeSulfurDioxide']\n",
        "att8=dataframeCopy['TotalSulfurDioxide']\n",
        "att9=dataframeCopy['Density']\n",
        "att10=dataframeCopy['pH']\n",
        "att11=dataframeCopy['Sulphates']\n",
        "att12=dataframeCopy['Alcohol']\n",
        "att13=dataframeCopy['AcidIndex']\n",
        "\n",
        "fig,a =  plt.subplots(4,4)\n",
        "\n",
        "a[0][0].hist(att1)\n",
        "a[0][0].set_title('TARGET')\n",
        "\n",
        "a[0][1].hist(att2)\n",
        "a[0][1].set_title('Fixed Acidity')\n",
        "\n",
        "a[0][2].hist(att3)\n",
        "a[0][2].set_title('Volatile Acidity')\n",
        "\n",
        "a[0][3].hist(att4)\n",
        "a[0][3].set_title('Citric Acid')\n",
        "\n",
        "\n",
        "a[1][0].hist(att5)\n",
        "a[1][0].set_title('Residual Sugar')\n",
        "\n",
        "a[1][1].hist(att6)\n",
        "a[1][1].set_title('Chlorides')\n",
        "\n",
        "\n",
        "a[1][2].hist(att7)\n",
        "a[1][2].set_title('Free SulfurDioxide')\n",
        "\n",
        "\n",
        "a[1][3].hist(att8)\n",
        "a[1][3].set_title('Total SulfurDioxide')\n",
        "\n",
        "\n",
        "a[2][0].hist(att9)\n",
        "a[2][0].set_title('Density')\n",
        "\n",
        "a[2][1].hist(att10)\n",
        "a[2][1].set_title('pH')\n",
        "\n",
        "a[2][2].hist(att11)\n",
        "a[2][2].set_title('Sulphates')\n",
        "\n",
        "\n",
        "a[2][3].hist(att12)\n",
        "a[2][3].set_title('Alcohol')\n",
        "\n",
        "\n",
        "\n",
        "a[3][0].hist(att13)\n",
        "a[3][0].set_title('Acid Index')\n",
        "\n",
        "\n",
        "\n",
        "plt.gcf().set_size_inches(15, 15)\n",
        "\n",
        "\n",
        "\n",
        "plt.show()\n",
        "\n",
        "\n",
        "\n",
        "\n",
        "\n",
        "\n",
        "\n",
        "\n"
      ],
      "metadata": {
        "id": "ZJD_ACCAWjsC"
      },
      "execution_count": null,
      "outputs": []
    },
    {
      "cell_type": "markdown",
      "source": [
        "The shape of the distribution is almost the same and didn't change much so we could possible move on for further data cleaning. \n",
        "\n",
        "\n",
        "## Missing Values:\n",
        "We saw that in our earlier analysis that there are so many missing values in the Rating Column , we can fill in those values with the median,mean,or bfill/ffill wherever it is appropriated. "
      ],
      "metadata": {
        "id": "cow0WwwYg06W"
      }
    },
    {
      "cell_type": "code",
      "source": [
        "df_statFill=dataframe.copy()\n",
        "\n",
        "# print(df_statFill)\n",
        "# dataframe['Rating'] = df_statFill['Rating'].fillna(df_statFill['Rating'].median)\n",
        "dataframe['Rating'].fillna(method='bfill',inplace=True)\n",
        "print(df_statFill['Rating'].head())\n",
        "\n",
        "\n",
        "dataframe['ResidualSugar'].fillna(method='bfill',inplace=True)\n",
        "print(df_statFill['ResidualSugar'].head())\n",
        "\n",
        "\n",
        "dataframe['Sulphates'].fillna(method='ffill',inplace=True)\n",
        "print(df_statFill['Sulphates'].head())\n",
        "\n",
        "\n",
        "dataframe['TotalSulfurDioxide'].fillna(method='bfill',inplace=True)\n",
        "print(df_statFill['TotalSulfurDioxide'].head())\n",
        "\n",
        "\n",
        "dataframe['TotalSulfurDioxide'].fillna(method='bfill',inplace=True)\n",
        "print(df_statFill['TotalSulfurDioxide'].head())\n",
        "\n",
        "dataframe['pH'].fillna(dataframe['pH'].mean(),inplace=True)\n",
        "print(df_statFill['pH'].head())\n",
        "\n",
        "\n",
        "dataframe['Chlorides'].fillna(dataframe['Chlorides'].median(),inplace=True)\n",
        "print(df_statFill['Chlorides'].head())\n",
        "\n",
        "\n",
        "dataframe['FreeSulfurDioxide'].fillna(dataframe['FreeSulfurDioxide'].mean(),inplace=True)\n",
        "print(df_statFill['FreeSulfurDioxide'].head())\n",
        "\n",
        "\n",
        "\n",
        "dataframe['Alcohol'].fillna(dataframe['Alcohol'].mean(),inplace=True)\n",
        "print(df_statFill['Alcohol'].head())\n",
        "\n",
        "\n",
        "\n",
        "\n"
      ],
      "metadata": {
        "id": "elJQXm_Aj0N_"
      },
      "execution_count": null,
      "outputs": []
    },
    {
      "cell_type": "markdown",
      "source": [
        "###Checking to see N/A in each column:\n"
      ],
      "metadata": {
        "id": "Ssiet0rDmFR7"
      }
    },
    {
      "cell_type": "code",
      "source": [
        "import missingno as msno\n",
        "print(dataframe.isnull().sum())\n",
        "ax=msno.matrix(dataframe)\n"
      ],
      "metadata": {
        "id": "OgmhzrYImVUk"
      },
      "execution_count": null,
      "outputs": []
    },
    {
      "cell_type": "code",
      "source": [
        "dataframe['ResidualSugar']=abs(dataframe['ResidualSugar'])\n",
        "sns.scatterplot(dataframe['Alcohol'],dataframe['ResidualSugar'],data=dataframe)\n",
        "pd.unique(dataframe['ResidualSugar'])"
      ],
      "metadata": {
        "id": "wyR2Ox8odfGz"
      },
      "execution_count": null,
      "outputs": []
    },
    {
      "cell_type": "markdown",
      "source": [
        "This looks amazing now that we have cleaned the data , we have more"
      ],
      "metadata": {
        "id": "z83V9gVwditV"
      }
    },
    {
      "cell_type": "markdown",
      "source": [
        "## Using Background Knowledge to filter out unreasonable values"
      ],
      "metadata": {
        "id": "ImR8kxwRqmYx"
      }
    },
    {
      "cell_type": "code",
      "source": [
        "dataframe_copy2=dataframe.copy()\n",
        "dataframe_copy2=dataframe[(5<dataframe.Alcohol )]\n",
        "\n",
        "\n",
        "\n",
        "dataframe=dataframe.loc[dataframe['ResidualSugar']<59]\n",
        "plt.subplot(1,2,1)\n",
        "sns.boxenplot(dataframe['ResidualSugar'],y=None)\n",
        "# plt.hist(dataframe_copy2['Alcohol'],bins=20)\n",
        "\n",
        "\n",
        "\n",
        "\n",
        "\n",
        "\n",
        "\n",
        "\n",
        "# 5.5% to 23 alcohol\n",
        "plt.subplot(1,2,2)\n",
        "# dataframe=dataframe.loc[(5<dataframe['Alcohol']).astype(int) & (dataframe['Alcohol']<23).astype(int)]\n",
        "dataframe=dataframe.loc[(dataframe['Alcohol']<23)]\n",
        "sns.boxenplot(dataframe['Alcohol'],y=None)\n",
        "\n",
        "\n",
        "\n",
        "\n",
        "\n",
        "\n",
        "\n",
        "\n",
        "plt.subplots_adjust(right=2)\n",
        "plt.gcf().set_size_inches(5, 5)\n",
        "plt.show()\n",
        "\n",
        "\n"
      ],
      "metadata": {
        "id": "-dCoyqmxq6re"
      },
      "execution_count": null,
      "outputs": []
    },
    {
      "cell_type": "markdown",
      "source": [
        "As it it evidence the Residual Sugar is definietly within the logical range , after filling out the N/A values the mean didn't change which is a good sign."
      ],
      "metadata": {
        "id": "qlucDov8hSpM"
      }
    },
    {
      "cell_type": "code",
      "source": [
        "dataframe.describe()"
      ],
      "metadata": {
        "id": "6gIOs5x9lQAD"
      },
      "execution_count": null,
      "outputs": []
    },
    {
      "cell_type": "code",
      "source": [
        "from sklearn.preprocessing import MinMaxScaler\n",
        "\n",
        "df_copy=dataframe\n",
        "\n",
        "scaler=MinMaxScaler(feature_range=(0,1))\n",
        "standardized_features1=scaler.fit_transform(df_copy['ResidualSugar'].values.reshape(-1,1))\n",
        "df_copy['ResidualSugar']=standardized_features1\n",
        "\n",
        "standardized_features2=scaler.fit_transform(df_copy['Alcohol'].values.reshape(-1,1))\n",
        "df_copy['Alcohol']=standardized_features2\n",
        "\n",
        "\n",
        "print(df_copy['ResidualSugar'].describe())\n",
        "\n",
        "\n"
      ],
      "metadata": {
        "id": "Z89XJ3r6rnW1",
        "outputId": "7f0dc031-10b5-433e-c7b6-d9cc79456906",
        "colab": {
          "base_uri": "https://localhost:8080/"
        }
      },
      "execution_count": 119,
      "outputs": [
        {
          "output_type": "stream",
          "name": "stdout",
          "text": [
            "count    11546.000000\n",
            "mean         0.300572\n",
            "std          0.292155\n",
            "min          0.000000\n",
            "25%          0.049236\n",
            "50%          0.181664\n",
            "75%          0.512733\n",
            "max          1.000000\n",
            "Name: ResidualSugar, dtype: float64\n"
          ]
        }
      ]
    },
    {
      "cell_type": "markdown",
      "source": [
        "# Conclusion: \n",
        "As you can see after data cleanup and data transformation of ResidualSugar and alcohol are done successfully. After successfully cleaning up the data , it is ready for any transformation . "
      ],
      "metadata": {
        "id": "CZZkfD8yua-0"
      }
    },
    {
      "cell_type": "markdown",
      "source": [
        ""
      ],
      "metadata": {
        "id": "0F4cB148mvYa"
      }
    }
  ]
}